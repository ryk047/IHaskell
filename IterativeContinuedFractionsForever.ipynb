{
 "cells": [
  {
   "cell_type": "code",
   "execution_count": 1,
   "metadata": {},
   "outputs": [
    {
     "name": "stdout",
     "output_type": "stream",
     "text": [
      "numerator?:98765\n",
      "denominator?:8765\n",
      "[11, 3, 1, 2, 1, 2, 2, 1, 12]\n",
      "[[11, 5, 11.0], [34, 3, 11.333333333333334], [45, 4, 11.25], [124, 11, 11.272727272727273], [169, 15, 11.266666666666667], [462, 41, 11.268292682926829], [1093, 97, 11.268041237113403], [1555, 138, 11.268115942028986], [19753, 1753, 11.26811180832858]]\n"
     ]
    }
   ],
   "source": [
    "#This program takes a fraction and returns the continued fraction \n",
    "#representation.  Then it calculates the convergents, recovering the original\n",
    "#fraction with C_n\n",
    "                                                                        \n",
    "#Initialize the fraction, p/q; int converts the number to an integer.\n",
    "#Store the result in a list called ContinuedFraction.\n",
    "p = input (\"numerator?:\")\n",
    "p = int(p)\n",
    "q = input(\"denominator?:\")\n",
    "q = int (q)\n",
    "ContinuedFraction = []\n",
    "\n",
    "#Calculate the first terms using the Euclidean algorithm.  p//q is floor \n",
    "#division:  Divides and returns the integer value of the quotient.\n",
    "#p%q is the modulus:  Divides and returns the value of the remainder.\n",
    "#add the first term, a, to the end (currently the beginning) of the list.\n",
    "a = p//q\n",
    "r0 = p%q\n",
    "ContinuedFraction.append (a)\n",
    "\n",
    "#Calculate the next terms.  Divide the previous denominator by the new \n",
    "#remainder:  q//r0 returns the next modulus; q%%r0 the next remainder.\n",
    "#append the new modulus to the list\n",
    "b = q//r0\n",
    "r1 = q%r0\n",
    "r2 = r1\n",
    "ContinuedFraction.append (b)\n",
    "\n",
    "#We've reached the point where the program needs to repeat the operations until\n",
    "#a remainder of zero is achieved and we have the not quite unique continued\n",
    "#fraction representation we're hoping for. Define a function that does Euclidean\n",
    "#division with indefinite iteration then run it so long as r2 does not equal \n",
    "#zero. Perform euclidean division on r0 and r1. Relable the results, r1 and r2,\n",
    "#as r0 and r1, respectively. Append r3, to our list; print the continued fraction.\n",
    "def euclidean (p,q):\n",
    "   return (p//q, p%q)\n",
    "while r2 != 0:\n",
    "  r3,r2 = euclidean (r0, r1)\n",
    "  r0 = r1\n",
    "  r1 = r2\n",
    "  ContinuedFraction.append (r3)\n",
    "print (ContinuedFraction)\n",
    "#result = (p/q)\n",
    "#print (f'{result:.40f}')\n",
    "\n",
    "#Calculate the first two convergents.  These use what Olds calls imaginary values,\n",
    "#which we'll call p_a, p_b, q_a, and q_b, since Olds' p0 and p-1 don't fit python's\n",
    "#indexing scheme.   \n",
    "Convergents = []\n",
    "p_a= 1; p_b = 0; q_a = 0; q_b = 1\n",
    "p0 = (ContinuedFraction[0]*p_a + p_b); q0 = (ContinuedFraction[0]*q_a + q_b)\n",
    "c0 = p0/q0\n",
    "Convergents.append([p0,r0,c0])\n",
    "p1 = (ContinuedFraction[1]*p0 + p_a); q1 = (ContinuedFraction[1]*q0 + q_a)\n",
    "c1 = p1/q1\n",
    "Convergents.append([p1,q1,c1])\n",
    "\n",
    "#Calculate the third convergent, to set the scheme for those that follow.\n",
    "length = len(ContinuedFraction)\n",
    "a = 2\n",
    "p2 = (ContinuedFraction[a]*p1 + p0)\n",
    "q2 = (ContinuedFraction[a]*q1 + q0)\n",
    "c2 = p2/q2\n",
    "Convergents.append ([p2,q2,c2])\n",
    "\n",
    "#Set up the while loop to calculate the convergents from a = 3 to the end.\n",
    "while a != length - 1:\n",
    "  p0 = p1; p1 = p2; q0 = q1; q1 = q2\n",
    "  a = a+1\n",
    "  p2 = (ContinuedFraction[a]*p1 + p0); q2 = (ContinuedFraction[a]*q1 + q0)\n",
    "  c2 = p2/q2\n",
    "  Convergents.append ([p2,q2,c2])\n",
    "\n",
    "print(Convergents) "
   ]
  },
  {
   "cell_type": "code",
   "execution_count": null,
   "metadata": {},
   "outputs": [],
   "source": []
  }
 ],
 "metadata": {
  "kernelspec": {
   "display_name": "Python 3",
   "language": "python",
   "name": "python3"
  },
  "language_info": {
   "codemirror_mode": {
    "name": "ipython",
    "version": 3
   },
   "file_extension": ".py",
   "mimetype": "text/x-python",
   "name": "python",
   "nbconvert_exporter": "python",
   "pygments_lexer": "ipython3",
   "version": "3.6.9"
  }
 },
 "nbformat": 4,
 "nbformat_minor": 4
}
